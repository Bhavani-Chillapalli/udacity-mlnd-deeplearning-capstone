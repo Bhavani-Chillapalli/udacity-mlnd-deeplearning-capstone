{
 "cells": [
  {
   "cell_type": "code",
   "execution_count": 1,
   "metadata": {
    "collapsed": false
   },
   "outputs": [],
   "source": [
    "import os\n",
    "import pandas as pd\n",
    "import matplotlib.pyplot as plt\n",
    "%matplotlib inline\n"
   ]
  },
  {
   "cell_type": "code",
   "execution_count": 2,
   "metadata": {
    "collapsed": false
   },
   "outputs": [
    {
     "name": "stderr",
     "output_type": "stream",
     "text": [
      "Using Theano backend.\n"
     ]
    }
   ],
   "source": [
    "import numpy as np\n",
    "from keras.preprocessing.image import ImageDataGenerator\n",
    "from keras.applications.vgg16 import VGG16\n"
   ]
  },
  {
   "cell_type": "code",
   "execution_count": 3,
   "metadata": {
    "collapsed": true
   },
   "outputs": [],
   "source": [
    "from keras.utils import np_utils\n",
    "from keras.models import Sequential\n",
    "from keras.layers import Dense,Flatten, Activation,Dropout\n",
    "from keras.callbacks import EarlyStopping, History\n"
   ]
  },
  {
   "cell_type": "code",
   "execution_count": 4,
   "metadata": {
    "collapsed": true
   },
   "outputs": [],
   "source": [
    "from sklearn.preprocessing import LabelEncoder\n",
    "from sklearn.metrics import log_loss\n",
    "from sklearn.model_selection import train_test_split"
   ]
  },
  {
   "cell_type": "code",
   "execution_count": 5,
   "metadata": {
    "collapsed": false
   },
   "outputs": [],
   "source": [
    "datagen = ImageDataGenerator(rescale=1., featurewise_center=True) #(rescale=1./255)\n",
    "datagen.mean=np.array([103.939, 116.779, 123.68],dtype=np.float32).reshape(3,1,1) # VGG processing"
   ]
  },
  {
   "cell_type": "code",
   "execution_count": 6,
   "metadata": {
    "collapsed": true
   },
   "outputs": [],
   "source": [
    "train_dir = \"train/train/\"\n",
    "test_dir = \"test_stg1/\""
   ]
  },
  {
   "cell_type": "code",
   "execution_count": 7,
   "metadata": {
    "collapsed": true
   },
   "outputs": [],
   "source": [
    "nb_train_samples = 3777\n",
    "nb_test_samples = 1000\n"
   ]
  },
  {
   "cell_type": "code",
   "execution_count": 8,
   "metadata": {
    "collapsed": true
   },
   "outputs": [],
   "source": [
    "model = VGG16(weights = \"imagenet\", include_top = False)"
   ]
  },
  {
   "cell_type": "code",
   "execution_count": 8,
   "metadata": {
    "collapsed": false
   },
   "outputs": [
    {
     "name": "stdout",
     "output_type": "stream",
     "text": [
      "Found 3777 images belonging to 8 classes.\n"
     ]
    }
   ],
   "source": [
    "train_generator = datagen.flow_from_directory(\n",
    "            train_dir,\n",
    "            target_size=(150,150),\n",
    "            batch_size=32,\n",
    "            class_mode=None,\n",
    "            shuffle=False)\n",
    "\n",
    "bottleneck_features_train = model.predict_generator(train_generator, nb_train_samples)\n",
    "np.save('bottleneck_features_train.npy', bottleneck_features_train)\n",
    "\n"
   ]
  },
  {
   "cell_type": "code",
   "execution_count": 9,
   "metadata": {
    "collapsed": false
   },
   "outputs": [],
   "source": [
    "classes = os.listdir(train_dir)\n",
    "labels = []\n",
    "for fish in classes:\n",
    "    label_list = [fish]*len(os.listdir(train_dir+fish+'/'))\n",
    "    labels.extend(label_list)"
   ]
  },
  {
   "cell_type": "code",
   "execution_count": 12,
   "metadata": {
    "collapsed": false
   },
   "outputs": [],
   "source": [
    "train_labels = LabelEncoder().fit_transform(labels)\n",
    "train_labels = np_utils.to_categorical(train_labels)"
   ]
  },
  {
   "cell_type": "code",
   "execution_count": 13,
   "metadata": {
    "collapsed": false
   },
   "outputs": [],
   "source": [
    "train_data = np.load(\"bottleneck_features_train.npy\")"
   ]
  },
  {
   "cell_type": "code",
   "execution_count": 17,
   "metadata": {
    "collapsed": false
   },
   "outputs": [],
   "source": [
    "top_model = Sequential()\n",
    "top_model.add(Flatten(input_shape=train_data.shape[1:]))\n",
    "top_model.add(Dense(256, activation='relu'))\n",
    "top_model.add(Dropout(0.5))\n",
    "top_model.add(Dense(64, activation='relu'))\n",
    "top_model.add(Dropout(0.5))\n",
    "top_model.add(Dense(8, activation='softmax'))\n"
   ]
  },
  {
   "cell_type": "code",
   "execution_count": 26,
   "metadata": {
    "collapsed": false
   },
   "outputs": [],
   "source": [
    "\n",
    "top_model.compile(optimizer=\"adam\",loss=\"categorical_crossentropy\",metrics =[\"accuracy\"])"
   ]
  },
  {
   "cell_type": "code",
   "execution_count": 27,
   "metadata": {
    "collapsed": true
   },
   "outputs": [],
   "source": [
    "callbacks = EarlyStopping(monitor='val_loss', patience=4, verbose=1, mode='auto')        \n"
   ]
  },
  {
   "cell_type": "code",
   "execution_count": 29,
   "metadata": {
    "collapsed": false
   },
   "outputs": [
    {
     "name": "stdout",
     "output_type": "stream",
     "text": [
      "Train on 2266 samples, validate on 1511 samples\n",
      "Epoch 1/90\n",
      "2266/2266 [==============================] - 1s - loss: 3.8908 - acc: 0.7586 - val_loss: 16.1181 - val_acc: 0.0000e+00\n",
      "Epoch 2/90\n",
      "2266/2266 [==============================] - 1s - loss: 3.8908 - acc: 0.7586 - val_loss: 16.1181 - val_acc: 0.0000e+00\n",
      "Epoch 3/90\n",
      "2266/2266 [==============================] - 1s - loss: 3.8908 - acc: 0.7586 - val_loss: 16.1181 - val_acc: 0.0000e+00\n",
      "Epoch 4/90\n",
      "2266/2266 [==============================] - 1s - loss: 3.8908 - acc: 0.7586 - val_loss: 16.1181 - val_acc: 0.0000e+00\n",
      "Epoch 5/90\n",
      "2266/2266 [==============================] - 1s - loss: 3.8908 - acc: 0.7586 - val_loss: 16.1181 - val_acc: 0.0000e+00\n",
      "Epoch 6/90\n",
      "2266/2266 [==============================] - 1s - loss: 3.8908 - acc: 0.7586 - val_loss: 16.1181 - val_acc: 0.0000e+00\n",
      "Epoch 00005: early stopping\n"
     ]
    }
   ],
   "source": [
    "history = top_model.fit(train_data, train_labels, batch_size=32, nb_epoch=90,\n",
    "              validation_split=0.4,shuffle=True,callbacks = [callbacks])"
   ]
  },
  {
   "cell_type": "code",
   "execution_count": 22,
   "metadata": {
    "collapsed": false
   },
   "outputs": [
    {
     "data": {
      "image/png": "[encoded data removed]",
      "text/plain": [
       "<matplotlib.figure.Figure at 0x1c982e390>"
      ]
     },
     "metadata": {},
     "output_type": "display_data"
    }
   ],
   "source": [
    "# summarize history for accuracy\n",
    "plt.figure(figsize=(15, 5))\n",
    "plt.subplot(1, 2, 1)\n",
    "plt.plot(history.history['acc']); plt.plot(history.history['val_acc']);\n",
    "plt.title('model accuracy'); plt.ylabel('accuracy');\n",
    "plt.xlabel('epoch'); plt.legend(['train', 'valid'], loc='upper left');\n",
    "\n",
    "# summarize history for loss\n",
    "plt.subplot(1, 2, 2)\n",
    "plt.plot(history.history['loss']); plt.plot(history.history['val_loss']);\n",
    "plt.title('model loss'); plt.ylabel('loss');\n",
    "plt.xlabel('epoch'); plt.legend(['train', 'valid'], loc='upper left');\n",
    "plt.show()"
   ]
  },
  {
   "cell_type": "code",
   "execution_count": 63,
   "metadata": {
    "collapsed": false
   },
   "outputs": [
    {
     "name": "stdout",
     "output_type": "stream",
     "text": [
      "Found 1000 images belonging to 1 classes.\n"
     ]
    }
   ],
   "source": [
    "test_generator = datagen.flow_from_directory(\n",
    "            test_dir,\n",
    "            target_size=(150,150),\n",
    "            batch_size=5,\n",
    "            class_mode=None,\n",
    "            shuffle=False)\n",
    "\n",
    "bottleneck_features_test = model.predict_generator(test_generator,nb_test_samples)"
   ]
  },
  {
   "cell_type": "code",
   "execution_count": 60,
   "metadata": {
    "collapsed": true
   },
   "outputs": [],
   "source": [
    "top_model.save_weights(\"bottleneck_train_no_augmentation.h5\")"
   ]
  },
  {
   "cell_type": "code",
   "execution_count": 64,
   "metadata": {
    "collapsed": true
   },
   "outputs": [],
   "source": [
    "np.save(\"bottleneck_test_features_no_top.npy\",bottleneck_features_test)"
   ]
  },
  {
   "cell_type": "code",
   "execution_count": 65,
   "metadata": {
    "collapsed": false
   },
   "outputs": [
    {
     "name": "stdout",
     "output_type": "stream",
     "text": [
      " 992/1000 [============================>.] - ETA: 0s"
     ]
    }
   ],
   "source": [
    "test_preds = top_model.predict(bottleneck_features_test, verbose=1)"
   ]
  },
  {
   "cell_type": "code",
   "execution_count": 69,
   "metadata": {
    "collapsed": false
   },
   "outputs": [
    {
     "data": {
      "text/html": [
       "<div>\n",
       "<table border=\"1\" class=\"dataframe\">\n",
       "  <thead>\n",
       "    <tr style=\"text-align: right;\">\n",
       "      <th></th>\n",
       "      <th>image</th>\n",
       "      <th>ALB</th>\n",
       "      <th>BET</th>\n",
       "      <th>DOL</th>\n",
       "      <th>LAG</th>\n",
       "      <th>NoF</th>\n",
       "      <th>OTHER</th>\n",
       "      <th>SHARK</th>\n",
       "      <th>YFT</th>\n",
       "    </tr>\n",
       "  </thead>\n",
       "  <tbody>\n",
       "    <tr>\n",
       "      <th>0</th>\n",
       "      <td>img_00005.jpg</td>\n",
       "      <td>8.333322e-30</td>\n",
       "      <td>9.545717e-29</td>\n",
       "      <td>4.708363e-43</td>\n",
       "      <td>0.000000e+00</td>\n",
       "      <td>1.000000e+00</td>\n",
       "      <td>3.473940e-29</td>\n",
       "      <td>3.974082e-41</td>\n",
       "      <td>8.173325e-30</td>\n",
       "    </tr>\n",
       "    <tr>\n",
       "      <th>1</th>\n",
       "      <td>img_00007.jpg</td>\n",
       "      <td>1.000000e+00</td>\n",
       "      <td>7.266771e-20</td>\n",
       "      <td>1.591903e-18</td>\n",
       "      <td>8.671401e-15</td>\n",
       "      <td>4.043013e-18</td>\n",
       "      <td>4.578993e-14</td>\n",
       "      <td>2.503016e-21</td>\n",
       "      <td>7.221993e-15</td>\n",
       "    </tr>\n",
       "    <tr>\n",
       "      <th>2</th>\n",
       "      <td>img_00009.jpg</td>\n",
       "      <td>1.000000e+00</td>\n",
       "      <td>5.585097e-12</td>\n",
       "      <td>9.408476e-16</td>\n",
       "      <td>6.727845e-13</td>\n",
       "      <td>4.981282e-13</td>\n",
       "      <td>9.942670e-10</td>\n",
       "      <td>1.819449e-15</td>\n",
       "      <td>7.382608e-14</td>\n",
       "    </tr>\n",
       "    <tr>\n",
       "      <th>3</th>\n",
       "      <td>img_00018.jpg</td>\n",
       "      <td>9.999950e-01</td>\n",
       "      <td>5.509736e-08</td>\n",
       "      <td>3.668536e-10</td>\n",
       "      <td>8.235089e-09</td>\n",
       "      <td>8.963706e-09</td>\n",
       "      <td>4.460130e-06</td>\n",
       "      <td>2.414648e-09</td>\n",
       "      <td>4.766436e-07</td>\n",
       "    </tr>\n",
       "    <tr>\n",
       "      <th>4</th>\n",
       "      <td>img_00027.jpg</td>\n",
       "      <td>9.846449e-01</td>\n",
       "      <td>2.484199e-04</td>\n",
       "      <td>1.449984e-04</td>\n",
       "      <td>5.678083e-05</td>\n",
       "      <td>4.407049e-04</td>\n",
       "      <td>1.857326e-03</td>\n",
       "      <td>6.283631e-03</td>\n",
       "      <td>6.323206e-03</td>\n",
       "    </tr>\n",
       "  </tbody>\n",
       "</table>\n",
       "</div>"
      ],
      "text/plain": [
       "           image           ALB           BET           DOL           LAG  \\\n",
       "0  img_00005.jpg  8.333322e-30  9.545717e-29  4.708363e-43  0.000000e+00   \n",
       "1  img_00007.jpg  1.000000e+00  7.266771e-20  1.591903e-18  8.671401e-15   \n",
       "2  img_00009.jpg  1.000000e+00  5.585097e-12  9.408476e-16  6.727845e-13   \n",
       "3  img_00018.jpg  9.999950e-01  5.509736e-08  3.668536e-10  8.235089e-09   \n",
       "4  img_00027.jpg  9.846449e-01  2.484199e-04  1.449984e-04  5.678083e-05   \n",
       "\n",
       "            NoF         OTHER         SHARK           YFT  \n",
       "0  1.000000e+00  3.473940e-29  3.974082e-41  8.173325e-30  \n",
       "1  4.043013e-18  4.578993e-14  2.503016e-21  7.221993e-15  \n",
       "2  4.981282e-13  9.942670e-10  1.819449e-15  7.382608e-14  \n",
       "3  8.963706e-09  4.460130e-06  2.414648e-09  4.766436e-07  \n",
       "4  4.407049e-04  1.857326e-03  6.283631e-03  6.323206e-03  "
      ]
     },
     "execution_count": 69,
     "metadata": {},
     "output_type": "execute_result"
    }
   ],
   "source": [
    "submission = pd.DataFrame(test_preds, columns= os.listdir(train_dir))\n",
    "test_files = os.listdir(\"test_stg1/test_stg1/\")\n",
    "submission.insert(0, 'image', test_files)\n",
    "submission.head()"
   ]
  },
  {
   "cell_type": "code",
   "execution_count": 75,
   "metadata": {
    "collapsed": false
   },
   "outputs": [],
   "source": [
    "submission.to_csv(\"bottleneck_pred.csv\",index = False)"
   ]
  },
  {
   "cell_type": "code",
   "execution_count": null,
   "metadata": {
    "collapsed": true
   },
   "outputs": [],
   "source": []
  }
 ],
 "metadata": {
  "anaconda-cloud": {},
  "kernelspec": {
   "display_name": "Python [conda env:py35]",
   "language": "python",
   "name": "conda-env-py35-py"
  },
  "language_info": {
   "codemirror_mode": {
    "name": "ipython",
    "version": 3
   },
   "file_extension": ".py",
   "mimetype": "text/x-python",
   "name": "python",
   "nbconvert_exporter": "python",
   "pygments_lexer": "ipython3",
   "version": "3.5.2"
  }
 },
 "nbformat": 4,
 "nbformat_minor": 1
}
