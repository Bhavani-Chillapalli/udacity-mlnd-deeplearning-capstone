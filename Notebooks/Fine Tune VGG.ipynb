{
 "cells": [
  {
   "cell_type": "code",
   "execution_count": 14,
   "metadata": {
    "collapsed": true
   },
   "outputs": [],
   "source": [
    "import pandas as pd"
   ]
  },
  {
   "cell_type": "code",
   "execution_count": 2,
   "metadata": {
    "collapsed": false
   },
   "outputs": [
    {
     "name": "stderr",
     "output_type": "stream",
     "text": [
      "Using TensorFlow backend.\n"
     ]
    }
   ],
   "source": [
    "from keras.applications.vgg16 import VGG16\n",
    "import os\n",
    "from keras.layers import Flatten, Dense, AveragePooling2D,GlobalAveragePooling2D\n",
    "from keras.models import Model\n",
    "from keras.optimizers import RMSprop, SGD\n",
    "from keras.callbacks import ModelCheckpoint,EarlyStopping\n",
    "from keras.preprocessing.image import ImageDataGenerator\n",
    "import numpy as np\n",
    "import matplotlib.pyplot as plt\n",
    "%matplotlib inline"
   ]
  },
  {
   "cell_type": "code",
   "execution_count": 3,
   "metadata": {
    "collapsed": false
   },
   "outputs": [
    {
     "name": "stdout",
     "output_type": "stream",
     "text": [
      "Loading VGG16 Weights ...\n",
      "Adding Average Pooling Layer and Softmax Output Layer ...\n",
      "Found 3019 images belonging to 8 classes.\n",
      "Found 758 images belonging to 8 classes.\n"
     ]
    }
   ],
   "source": [
    "\n",
    "learning_rate = 0.0001\n",
    "img_width = 150\n",
    "img_height = 150\n",
    "nbr_train_samples = 3019\n",
    "nbr_validation_samples = 758\n",
    "nbr_epochs = 2\n",
    "batch_size = 20\n",
    "\n",
    "train_data_dir = 'new_train'\n",
    "val_data_dir = 'new_valid'\n",
    "\n",
    "fishes = ['ALB', 'BET', 'DOL', 'LAG', 'NoF', 'OTHER', 'SHARK', 'YFT']\n",
    "\n",
    "print('Loading VGG16 Weights ...')\n",
    "\n",
    "vgg16_base = VGG16(include_top=False, weights='imagenet',\n",
    "                    input_tensor=None, input_shape=(150, 150,3))\n",
    "# Note that the preprocessing of InceptionV3 is:\n",
    "# (x / 255 - 0.5) x 2\n",
    "\n",
    "print('Adding new layers...')\n",
    "output = vgg16_base.get_layer(index = -1).output  \n",
    "output = GlobalAveragePooling2D()(output)\n",
    "# let's add a fully-connected layer\n",
    "output = Dense(1024, activation='relu')(output)\n",
    "# and a logistic layer -- let's say we have 200 classes\n",
    "output = Dense(8, activation='softmax')(output)\n",
    "\n",
    "\n",
    "vgg16_model = Model(vgg16_base.input, output)\n",
    "#InceptionV3_model.summary()\n",
    "\n",
    "optimizer = SGD(lr = learning_rate, momentum = 0.9, decay = 0.0, nesterov = True)\n",
    "vgg16_model.compile(loss='categorical_crossentropy', optimizer = optimizer, metrics = ['accuracy'])\n",
    "\n",
    "\n",
    "train_datagen = ImageDataGenerator(\n",
    "        rescale=1./255,\n",
    "        shear_range=0.1,\n",
    "        zoom_range=0.1,\n",
    "        rotation_range=10.,\n",
    "        width_shift_range=0.1,\n",
    "        height_shift_range=0.1,\n",
    "        horizontal_flip=True)\n",
    "\n",
    "\n",
    "val_datagen = ImageDataGenerator(rescale=1./255)\n",
    "\n",
    "train_generator = train_datagen.flow_from_directory(\n",
    "        train_data_dir,\n",
    "        target_size = (img_width, img_height),\n",
    "        batch_size = batch_size,\n",
    "        shuffle = True,\n",
    "        classes = fishes,\n",
    "        class_mode = 'categorical')\n",
    "\n",
    "validation_generator = val_datagen.flow_from_directory(\n",
    "        val_data_dir,\n",
    "        target_size=(img_width, img_height),\n",
    "        batch_size=batch_size,\n",
    "        shuffle = True,\n",
    "        classes = fishes,\n",
    "        class_mode = 'categorical')\n",
    "\n"
   ]
  },
  {
   "cell_type": "code",
   "execution_count": 4,
   "metadata": {
    "collapsed": false
   },
   "outputs": [
    {
     "name": "stdout",
     "output_type": "stream",
     "text": [
      "starting to fit model\n"
     ]
    }
   ],
   "source": [
    "from keras.callbacks import EarlyStopping\n",
    "earlystopping = EarlyStopping(monitor='val_loss', patience=4, verbose=1, mode='auto')        \n",
    "\n",
    "print(\"starting to fit model\")\n",
    "# autosave best Model\n",
    "best_model_file = \"./weights.h5\"\n",
    "best_model = ModelCheckpoint(best_model_file, monitor='val_acc', verbose = 1, save_best_only = True)\n"
   ]
  },
  {
   "cell_type": "code",
   "execution_count": 5,
   "metadata": {
    "collapsed": false
   },
   "outputs": [
    {
     "name": "stdout",
     "output_type": "stream",
     "text": [
      "Epoch 1/2\n",
      "3000/3019 [============================>.] - ETA: 35s - loss: 1.6415 - acc: 0.4323Epoch 00000: val_acc improved from -inf to 0.47493, saving model to ./weights.h5\n",
      "3019/3019 [==============================] - 6166s - loss: 1.6408 - acc: 0.4323 - val_loss: 1.5198 - val_acc: 0.4749\n",
      "Epoch 2/2\n",
      "3000/3019 [============================>.] - ETA: 35s - loss: 1.4457 - acc: 0.5063Epoch 00001: val_acc improved from 0.47493 to 0.53826, saving model to ./weights.h5\n",
      "3019/3019 [==============================] - 6176s - loss: 1.4455 - acc: 0.5068 - val_loss: 1.3336 - val_acc: 0.5383\n"
     ]
    }
   ],
   "source": [
    "history = vgg16_model.fit_generator(\n",
    "        train_generator,\n",
    "        samples_per_epoch = nbr_train_samples,\n",
    "        nb_epoch = nbr_epochs,\n",
    "        validation_data = validation_generator,\n",
    "        nb_val_samples = nbr_validation_samples,\n",
    "        callbacks = [earlystopping,best_model])"
   ]
  },
  {
   "cell_type": "code",
   "execution_count": 6,
   "metadata": {
    "collapsed": false
   },
   "outputs": [
    {
     "data": {
      "image/png": "[encoded data removed]",
      "text/plain": [
       "<matplotlib.figure.Figure at 0x2b81fe3ac8>"
      ]
     },
     "metadata": {},
     "output_type": "display_data"
    }
   ],
   "source": [
    "# summarize history for accuracy\n",
    "plt.figure(figsize=(15, 5))\n",
    "plt.subplot(1, 2, 1)\n",
    "plt.plot(history.history['acc']); plt.plot(history.history['val_acc']);\n",
    "plt.title('model accuracy'); plt.ylabel('accuracy');\n",
    "plt.xlabel('epoch'); plt.legend(['train', 'valid'], loc='upper left');\n",
    "\n",
    "# summarize history for loss\n",
    "plt.subplot(1, 2, 2)\n",
    "plt.plot(history.history['loss']); plt.plot(history.history['val_loss']);\n",
    "plt.title('model loss'); plt.ylabel('loss');\n",
    "plt.xlabel('epoch'); plt.legend(['train', 'valid'], loc='upper left');\n",
    "plt.show()"
   ]
  },
  {
   "cell_type": "code",
   "execution_count": null,
   "metadata": {
    "collapsed": true
   },
   "outputs": [],
   "source": [
    "test_dir = \"test_stg1/\"\n",
    "test_datagen = ImageDataGenerator(rescale=1./255)\n",
    "test_generator = test_datagen.flow_from_directory(\n",
    "            test_dir,\n",
    "            target_size=(150,150),\n",
    "            batch_size=10,\n",
    "            class_mode=None,\n",
    "            shuffle=False)"
   ]
  },
  {
   "cell_type": "code",
   "execution_count": null,
   "metadata": {
    "collapsed": true
   },
   "outputs": [],
   "source": [
    "preds = vgg16_model.predict_generator(test_generator,1000)"
   ]
  },
  {
   "cell_type": "code",
   "execution_count": 11,
   "metadata": {
    "collapsed": false
   },
   "outputs": [
    {
     "data": {
      "text/plain": [
       "array([ 0.31355375,  0.01711159,  0.03287278,  0.01051113,  0.44477218,\n",
       "        0.01584952,  0.04502339,  0.12030563], dtype=float32)"
      ]
     },
     "execution_count": 11,
     "metadata": {},
     "output_type": "execute_result"
    }
   ],
   "source": [
    "preds[0]"
   ]
  },
  {
   "cell_type": "code",
   "execution_count": 12,
   "metadata": {
    "collapsed": true
   },
   "outputs": [],
   "source": [
    "clipped_preds = np.clip(preds,(1-0.82)/7,0.82)"
   ]
  },
  {
   "cell_type": "code",
   "execution_count": 16,
   "metadata": {
    "collapsed": false
   },
   "outputs": [
    {
     "data": {
      "text/html": [
       "<div>\n",
       "<table border=\"1\" class=\"dataframe\">\n",
       "  <thead>\n",
       "    <tr style=\"text-align: right;\">\n",
       "      <th></th>\n",
       "      <th>image</th>\n",
       "      <th>ALB</th>\n",
       "      <th>BET</th>\n",
       "      <th>DOL</th>\n",
       "      <th>LAG</th>\n",
       "      <th>NoF</th>\n",
       "      <th>OTHER</th>\n",
       "      <th>SHARK</th>\n",
       "      <th>YFT</th>\n",
       "    </tr>\n",
       "  </thead>\n",
       "  <tbody>\n",
       "    <tr>\n",
       "      <th>0</th>\n",
       "      <td>img_00005.jpg</td>\n",
       "      <td>0.313554</td>\n",
       "      <td>0.025714</td>\n",
       "      <td>0.032873</td>\n",
       "      <td>0.025714</td>\n",
       "      <td>0.444772</td>\n",
       "      <td>0.025714</td>\n",
       "      <td>0.045023</td>\n",
       "      <td>0.120306</td>\n",
       "    </tr>\n",
       "    <tr>\n",
       "      <th>1</th>\n",
       "      <td>img_00007.jpg</td>\n",
       "      <td>0.615895</td>\n",
       "      <td>0.047381</td>\n",
       "      <td>0.027842</td>\n",
       "      <td>0.025714</td>\n",
       "      <td>0.025714</td>\n",
       "      <td>0.044983</td>\n",
       "      <td>0.025714</td>\n",
       "      <td>0.207711</td>\n",
       "    </tr>\n",
       "    <tr>\n",
       "      <th>2</th>\n",
       "      <td>img_00009.jpg</td>\n",
       "      <td>0.669179</td>\n",
       "      <td>0.027317</td>\n",
       "      <td>0.025714</td>\n",
       "      <td>0.025714</td>\n",
       "      <td>0.097403</td>\n",
       "      <td>0.067046</td>\n",
       "      <td>0.039401</td>\n",
       "      <td>0.070989</td>\n",
       "    </tr>\n",
       "    <tr>\n",
       "      <th>3</th>\n",
       "      <td>img_00018.jpg</td>\n",
       "      <td>0.549258</td>\n",
       "      <td>0.025714</td>\n",
       "      <td>0.030986</td>\n",
       "      <td>0.025714</td>\n",
       "      <td>0.083362</td>\n",
       "      <td>0.057311</td>\n",
       "      <td>0.050895</td>\n",
       "      <td>0.192416</td>\n",
       "    </tr>\n",
       "    <tr>\n",
       "      <th>4</th>\n",
       "      <td>img_00027.jpg</td>\n",
       "      <td>0.207283</td>\n",
       "      <td>0.025714</td>\n",
       "      <td>0.032032</td>\n",
       "      <td>0.025714</td>\n",
       "      <td>0.025714</td>\n",
       "      <td>0.077042</td>\n",
       "      <td>0.148734</td>\n",
       "      <td>0.495641</td>\n",
       "    </tr>\n",
       "  </tbody>\n",
       "</table>\n",
       "</div>"
      ],
      "text/plain": [
       "           image       ALB       BET       DOL       LAG       NoF     OTHER  \\\n",
       "0  img_00005.jpg  0.313554  0.025714  0.032873  0.025714  0.444772  0.025714   \n",
       "1  img_00007.jpg  0.615895  0.047381  0.027842  0.025714  0.025714  0.044983   \n",
       "2  img_00009.jpg  0.669179  0.027317  0.025714  0.025714  0.097403  0.067046   \n",
       "3  img_00018.jpg  0.549258  0.025714  0.030986  0.025714  0.083362  0.057311   \n",
       "4  img_00027.jpg  0.207283  0.025714  0.032032  0.025714  0.025714  0.077042   \n",
       "\n",
       "      SHARK       YFT  \n",
       "0  0.045023  0.120306  \n",
       "1  0.025714  0.207711  \n",
       "2  0.039401  0.070989  \n",
       "3  0.050895  0.192416  \n",
       "4  0.148734  0.495641  "
      ]
     },
     "execution_count": 16,
     "metadata": {},
     "output_type": "execute_result"
    }
   ],
   "source": [
    "submission = pd.DataFrame(clipped_preds, columns= os.listdir(\"train/train/\"))\n",
    "test_files = os.listdir(\"test_stg1/test_stg1/\")\n",
    "submission.insert(0, 'image', test_files)\n",
    "submission.head()"
   ]
  },
  {
   "cell_type": "code",
   "execution_count": 17,
   "metadata": {
    "collapsed": true
   },
   "outputs": [],
   "source": [
    "submission.to_csv(\"fine_tuned_vgg_clipped.csv\",index = None)"
   ]
  },
  {
   "cell_type": "code",
   "execution_count": null,
   "metadata": {
    "collapsed": true
   },
   "outputs": [],
   "source": []
  }
 ],
 "metadata": {
  "anaconda-cloud": {},
  "kernelspec": {
   "display_name": "Python [conda env:py35]",
   "language": "python",
   "name": "conda-env-py35-py"
  },
  "language_info": {
   "codemirror_mode": {
    "name": "ipython",
    "version": 3
   },
   "file_extension": ".py",
   "mimetype": "text/x-python",
   "name": "python",
   "nbconvert_exporter": "python",
   "pygments_lexer": "ipython3",
   "version": "3.5.2"
  }
 },
 "nbformat": 4,
 "nbformat_minor": 1
}
